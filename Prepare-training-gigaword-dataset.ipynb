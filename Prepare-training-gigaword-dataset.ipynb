{
 "cells": [
  {
   "cell_type": "code",
   "execution_count": 1,
   "metadata": {},
   "outputs": [],
   "source": [
    "import pandas as pd"
   ]
  },
  {
   "cell_type": "code",
   "execution_count": 2,
   "metadata": {},
   "outputs": [],
   "source": [
    "# Change local path, download using the link below. \n",
    "# https://drive.google.com/file/d/0B6N7tANPyVeBNmlSX19Ld2xDU1E/view\n",
    "path='C:/Users/R-k-l/Documents/AA Fouth Year/BetaLab/textfiles/summarycsv/sumdata/train/'\n",
    "df = pd.concat([pd.read_csv(path+'train.article.txt', sep='\\n'), \n",
    "                  pd.read_csv(path+'train.title.txt', sep='\\n')], axis=1)\n",
    "df.columns = ['article', 'title']"
   ]
  },
  {
   "cell_type": "code",
   "execution_count": 3,
   "metadata": {},
   "outputs": [],
   "source": [
    "# join validation sentence pairs together into dataframe\n",
    "val = pd.concat([pd.read_csv(path+'valid.article.filter.txt', sep=\"\\n\"), \n",
    "                  pd.read_csv(path+'valid.title.filter.txt', sep=\"\\n\")], axis=1)\n",
    "val.columns = [\"article\", \"title\"]"
   ]
  },
  {
   "cell_type": "code",
   "execution_count": 4,
   "metadata": {},
   "outputs": [
    {
     "data": {
      "text/plain": [
       "(3803956, 189650)"
      ]
     },
     "execution_count": 4,
     "metadata": {},
     "output_type": "execute_result"
    }
   ],
   "source": [
    "len(df), len(val)"
   ]
  },
  {
   "cell_type": "markdown",
   "metadata": {},
   "source": [
    "## Show some sample articles and titles"
   ]
  },
  {
   "cell_type": "code",
   "execution_count": 5,
   "metadata": {},
   "outputs": [
    {
     "data": {
      "text/plain": [
       "'two egyptian border guards were killed wednesday in clashes with palestinian militants near the rafah crossing on the border with gaza , a medical source said .'"
      ]
     },
     "metadata": {},
     "output_type": "display_data"
    },
    {
     "data": {
      "text/plain": [
       "'two egyptian guards killed on border with gaza'"
      ]
     },
     "metadata": {},
     "output_type": "display_data"
    },
    {
     "data": {
      "text/plain": [
       "\"the united states on wednesday welcomed beijing 's early release of a chinese journalist jailed for exposing top-level graft but said it remain concerned over the lack of freedom in the world 's most populous nation .\""
      ]
     },
     "metadata": {},
     "output_type": "display_data"
    },
    {
     "data": {
      "text/plain": [
       "\"us welcomes chinese journalist 's release highlights freedom concerns\""
      ]
     },
     "metadata": {},
     "output_type": "display_data"
    },
    {
     "data": {
      "text/plain": [
       "'sales of hybrid <unk> vehicles in the united states should more than triple over the next seven years , a leading research firm said wednesday .'"
      ]
     },
     "metadata": {},
     "output_type": "display_data"
    },
    {
     "data": {
      "text/plain": [
       "'us hybrid vehicle sales expect to more than triple in seven years'"
      ]
     },
     "metadata": {},
     "output_type": "display_data"
    },
    {
     "data": {
      "text/plain": [
       "'jose mourinho renewed his partnership with portuguese international maniche on wednesday when he completed the loan signing of the ##-year-old midfielder from dynamo moscow .'"
      ]
     },
     "metadata": {},
     "output_type": "display_data"
    },
    {
     "data": {
      "text/plain": [
       "'maniche renews partnership with mourinho'"
      ]
     },
     "metadata": {},
     "output_type": "display_data"
    },
    {
     "data": {
      "text/plain": [
       "\"several thousand people gathered on wednesday evening on the main square in zagreb for a public draw and an open air party to celebrate the croatian capital 's second chance to host the women 's slalom world cup .\""
      ]
     },
     "metadata": {},
     "output_type": "display_data"
    },
    {
     "data": {
      "text/plain": [
       "'thousands of croatians celebrate before world cup slalom'"
      ]
     },
     "metadata": {},
     "output_type": "display_data"
    }
   ],
   "source": [
    "import random\n",
    "for i in range(5):\n",
    "    r = random.randint(0,50)\n",
    "    display(val.iloc[r]['article'])\n",
    "    display(val.iloc[r]['title'])"
   ]
  },
  {
   "cell_type": "markdown",
   "metadata": {},
   "source": [
    "## Export as a .csv file to be used and modeled. "
   ]
  },
  {
   "cell_type": "code",
   "execution_count": 6,
   "metadata": {},
   "outputs": [],
   "source": [
    "# sample_train = df.sample(80000)\n",
    "# sample_val = val.sample(20000)\n",
    "# sample_train.to_csv(path+'../preprocessed/train_ds_80000.csv', index=None)\n",
    "# sample_val.to_csv(path+'../preprocessed/valid_ds_20000.csv', index=None)"
   ]
  },
  {
   "cell_type": "code",
   "execution_count": 8,
   "metadata": {},
   "outputs": [],
   "source": [
    "sample = df.sample(1000)\n",
    "new_path='C:\\\\Users\\\\R-k-l\\\\AppData\\\\Local\\\\Programs\\\\Python\\\\Python37\\\\Scripts\\\\BetaLab-meeting-minutes\\\\NLP-meeting-summary'\n",
    "sample.to_csv(new_path+'/train_model_files/article_summary_and_article_title/sample_1000.csv', index=None)"
   ]
  },
  {
   "cell_type": "code",
   "execution_count": null,
   "metadata": {},
   "outputs": [],
   "source": []
  }
 ],
 "metadata": {
  "kernelspec": {
   "display_name": "Python 3",
   "language": "python",
   "name": "python3"
  },
  "language_info": {
   "codemirror_mode": {
    "name": "ipython",
    "version": 3
   },
   "file_extension": ".py",
   "mimetype": "text/x-python",
   "name": "python",
   "nbconvert_exporter": "python",
   "pygments_lexer": "ipython3",
   "version": "3.7.3"
  }
 },
 "nbformat": 4,
 "nbformat_minor": 2
}
