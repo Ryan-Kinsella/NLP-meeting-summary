{
 "cells": [
  {
   "cell_type": "code",
   "execution_count": 1,
   "metadata": {},
   "outputs": [],
   "source": [
    "import pandas as pd"
   ]
  },
  {
   "cell_type": "code",
   "execution_count": 3,
   "metadata": {},
   "outputs": [],
   "source": [
    "# Change local path, download using the link below. \n",
    "# https://drive.google.com/file/d/0B6N7tANPyVeBNmlSX19Ld2xDU1E/view\n",
    "path='C:/Users/R-k-l/Documents/AA Fouth Year/BetaLab/textfiles/summarycsv/sumdata/train/'\n",
    "df = pd.concat([pd.read_csv(path+'train.article.txt', sep='\\n'), \n",
    "                  pd.read_csv(path+'train.title.txt', sep='\\n')], axis=1)\n",
    "df.columns = ['article', 'title']"
   ]
  },
  {
   "cell_type": "code",
   "execution_count": 4,
   "metadata": {},
   "outputs": [],
   "source": [
    "# join validation sentence pairs together into dataframe\n",
    "val = pd.concat([pd.read_csv(path+'valid.article.filter.txt', sep=\"\\n\"), \n",
    "                  pd.read_csv(path+'valid.title.filter.txt', sep=\"\\n\")], axis=1)\n",
    "val.columns = [\"article\", \"title\"]"
   ]
  },
  {
   "cell_type": "code",
   "execution_count": 6,
   "metadata": {},
   "outputs": [
    {
     "data": {
      "text/plain": [
       "(3803956, 189650)"
      ]
     },
     "execution_count": 6,
     "metadata": {},
     "output_type": "execute_result"
    }
   ],
   "source": [
    "len(df), len(val)"
   ]
  },
  {
   "cell_type": "markdown",
   "metadata": {},
   "source": [
    "## Show some sample articles and titles"
   ]
  },
  {
   "cell_type": "code",
   "execution_count": 8,
   "metadata": {},
   "outputs": [
    {
     "data": {
      "text/plain": [
       "'hollywood star charlie sheen and actress denise richards have scrapped efforts to reconcile their differences and have decided to push ahead with a divorce , court documents showed wednesday .'"
      ]
     },
     "metadata": {},
     "output_type": "display_data"
    },
    {
     "data": {
      "text/plain": [
       "'denise richards charlie sheen push ahead with divorce'"
      ]
     },
     "metadata": {},
     "output_type": "display_data"
    },
    {
     "data": {
      "text/plain": [
       "\"the un security council will hold a ministerial session on the situation in africa 's great lakes region late this month , <unk> 's un envoy augustine <unk> said wednesday .\""
      ]
     },
     "metadata": {},
     "output_type": "display_data"
    },
    {
     "data": {
      "text/plain": [
       "\"security council to hold ministerial session on africa 's great lakes\""
      ]
     },
     "metadata": {},
     "output_type": "display_data"
    },
    {
     "data": {
      "text/plain": [
       "\"hong kong gold prices opened higher thursday at ###.##-### .## us dollars an ounce , compared to wednesday 's close of ###.##-### .## dollars an ounce .\""
      ]
     },
     "metadata": {},
     "output_type": "display_data"
    },
    {
     "data": {
      "text/plain": [
       "'hong kong gold opens higher'"
      ]
     },
     "metadata": {},
     "output_type": "display_data"
    },
    {
     "data": {
      "text/plain": [
       "'four-time all-star alexander mogilny was waived by new jersey on wednesday , one day after the devils welcomed back czech forward patrik elias .'"
      ]
     },
     "metadata": {},
     "output_type": "display_data"
    },
    {
     "data": {
      "text/plain": [
       "'mogilny odd man out as devils welcome back elias'"
      ]
     },
     "metadata": {},
     "output_type": "display_data"
    },
    {
     "data": {
      "text/plain": [
       "'general motors corp. said wednesday its us sales fell ##.# percent in december and four percent in #### with the biggest losses coming from passenger car sales .'"
      ]
     },
     "metadata": {},
     "output_type": "display_data"
    },
    {
     "data": {
      "text/plain": [
       "'gm december sales fall ## percent'"
      ]
     },
     "metadata": {},
     "output_type": "display_data"
    }
   ],
   "source": [
    "import random\n",
    "for i in range(5):\n",
    "    r = random.randint(0,50)\n",
    "    display(val.iloc[r]['article'])\n",
    "    display(val.iloc[r]['title'])"
   ]
  },
  {
   "cell_type": "markdown",
   "metadata": {},
   "source": [
    "## Create 80,000 training samples and 20,000 validation samples. Export as a .csv file to be used and modeled. "
   ]
  },
  {
   "cell_type": "code",
   "execution_count": 10,
   "metadata": {},
   "outputs": [],
   "source": [
    "sample_train = df.sample(80000)\n",
    "sample_val = val.sample(20000)\n",
    "sample_train.to_csv(path+'../preprocessed/train_ds_80000.csv', index=None)\n",
    "sample_val.to_csv(path+'../preprocessed/valid_ds_20000.csv', index=None)"
   ]
  },
  {
   "cell_type": "code",
   "execution_count": 11,
   "metadata": {},
   "outputs": [
    {
     "data": {
      "text/html": [
       "<div>\n",
       "<style scoped>\n",
       "    .dataframe tbody tr th:only-of-type {\n",
       "        vertical-align: middle;\n",
       "    }\n",
       "\n",
       "    .dataframe tbody tr th {\n",
       "        vertical-align: top;\n",
       "    }\n",
       "\n",
       "    .dataframe thead th {\n",
       "        text-align: right;\n",
       "    }\n",
       "</style>\n",
       "<table border=\"1\" class=\"dataframe\">\n",
       "  <thead>\n",
       "    <tr style=\"text-align: right;\">\n",
       "      <th></th>\n",
       "      <th>article</th>\n",
       "      <th>title</th>\n",
       "    </tr>\n",
       "  </thead>\n",
       "  <tbody>\n",
       "    <tr>\n",
       "      <th>1114775</th>\n",
       "      <td>yolanda griffith of the sacramento monarch com...</td>\n",
       "      <td>griffith is wnba 's most valuable</td>\n",
       "    </tr>\n",
       "    <tr>\n",
       "      <th>1292637</th>\n",
       "      <td>venezuelan president hugo chavez made a surpri...</td>\n",
       "      <td>chavez lands in cuba meets with castro brothers</td>\n",
       "    </tr>\n",
       "    <tr>\n",
       "      <th>1463898</th>\n",
       "      <td>dutch police have arrested seven people suspec...</td>\n",
       "      <td>dutch police arrest # suspected of planning at...</td>\n",
       "    </tr>\n",
       "    <tr>\n",
       "      <th>1210335</th>\n",
       "      <td>russian news agencies say a commercial airline...</td>\n",
       "      <td>airliner lands in moscow despite report of tro...</td>\n",
       "    </tr>\n",
       "    <tr>\n",
       "      <th>1849208</th>\n",
       "      <td>spain 's ruling socialist party has claimed vi...</td>\n",
       "      <td>spain s socialists claim victory in general el...</td>\n",
       "    </tr>\n",
       "    <tr>\n",
       "      <th>...</th>\n",
       "      <td>...</td>\n",
       "      <td>...</td>\n",
       "    </tr>\n",
       "    <tr>\n",
       "      <th>818840</th>\n",
       "      <td>zimbabwean president robert mugabe swore in me...</td>\n",
       "      <td>zimbabwe swears in electoral human rights comm...</td>\n",
       "    </tr>\n",
       "    <tr>\n",
       "      <th>3473164</th>\n",
       "      <td>kuwait stock exchange index closed at #,###.# ...</td>\n",
       "      <td>kuwait stock exchange index down</td>\n",
       "    </tr>\n",
       "    <tr>\n",
       "      <th>2085048</th>\n",
       "      <td>saudi arabian defense minister prince sultan s...</td>\n",
       "      <td>saudi arabia says iraqi criticism does not sig...</td>\n",
       "    </tr>\n",
       "    <tr>\n",
       "      <th>2183218</th>\n",
       "      <td>minnesota forward &lt;unk&gt; bickerstaff was carrie...</td>\n",
       "      <td>minnesota 's bickerstaff injures leg</td>\n",
       "    </tr>\n",
       "    <tr>\n",
       "      <th>2114351</th>\n",
       "      <td>all-rounder dipak patel on wednesday withdrew ...</td>\n",
       "      <td>patel withdraws from tour squad</td>\n",
       "    </tr>\n",
       "  </tbody>\n",
       "</table>\n",
       "<p>80000 rows × 2 columns</p>\n",
       "</div>"
      ],
      "text/plain": [
       "                                                   article  \\\n",
       "1114775  yolanda griffith of the sacramento monarch com...   \n",
       "1292637  venezuelan president hugo chavez made a surpri...   \n",
       "1463898  dutch police have arrested seven people suspec...   \n",
       "1210335  russian news agencies say a commercial airline...   \n",
       "1849208  spain 's ruling socialist party has claimed vi...   \n",
       "...                                                    ...   \n",
       "818840   zimbabwean president robert mugabe swore in me...   \n",
       "3473164  kuwait stock exchange index closed at #,###.# ...   \n",
       "2085048  saudi arabian defense minister prince sultan s...   \n",
       "2183218  minnesota forward <unk> bickerstaff was carrie...   \n",
       "2114351  all-rounder dipak patel on wednesday withdrew ...   \n",
       "\n",
       "                                                     title  \n",
       "1114775                  griffith is wnba 's most valuable  \n",
       "1292637    chavez lands in cuba meets with castro brothers  \n",
       "1463898  dutch police arrest # suspected of planning at...  \n",
       "1210335  airliner lands in moscow despite report of tro...  \n",
       "1849208  spain s socialists claim victory in general el...  \n",
       "...                                                    ...  \n",
       "818840   zimbabwe swears in electoral human rights comm...  \n",
       "3473164                   kuwait stock exchange index down  \n",
       "2085048  saudi arabia says iraqi criticism does not sig...  \n",
       "2183218               minnesota 's bickerstaff injures leg  \n",
       "2114351                    patel withdraws from tour squad  \n",
       "\n",
       "[80000 rows x 2 columns]"
      ]
     },
     "execution_count": 11,
     "metadata": {},
     "output_type": "execute_result"
    }
   ],
   "source": [
    "sample_train"
   ]
  },
  {
   "cell_type": "code",
   "execution_count": 12,
   "metadata": {},
   "outputs": [],
   "source": [
    "sample_train = df.sample(80)\n",
    "sample_val = val.sample(20)\n",
    "sample_train.to_csv(path+'../preprocessed/train_ds_80.csv', index=None)\n",
    "sample_val.to_csv(path+'../preprocessed/valid_ds_20.csv', index=None)"
   ]
  },
  {
   "cell_type": "code",
   "execution_count": null,
   "metadata": {},
   "outputs": [],
   "source": []
  }
 ],
 "metadata": {
  "kernelspec": {
   "display_name": "Python 3",
   "language": "python",
   "name": "python3"
  },
  "language_info": {
   "codemirror_mode": {
    "name": "ipython",
    "version": 3
   },
   "file_extension": ".py",
   "mimetype": "text/x-python",
   "name": "python",
   "nbconvert_exporter": "python",
   "pygments_lexer": "ipython3",
   "version": "3.7.3"
  }
 },
 "nbformat": 4,
 "nbformat_minor": 2
}
